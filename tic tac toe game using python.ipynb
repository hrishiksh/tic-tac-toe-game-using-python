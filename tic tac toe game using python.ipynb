{
 "cells": [
  {
   "cell_type": "code",
   "execution_count": 2,
   "metadata": {},
   "outputs": [],
   "source": [
    "def player_input():\n",
    "    player1=input(\"What is your favourite? 'X' or 'O' ? Choose one :  \")\n",
    "    while player1!=\"X\" and player1!=\"O\":\n",
    "        player1=input(\"oops! we don't have that option. please select between 'X' or 'O':  \")\n",
    "    if player1==\"X\":\n",
    "        player2=\"O\"\n",
    "    elif player1==\"O\":\n",
    "        player2=\"X\"\n",
    "    print(f\"Player1 choose {player1}\")\n",
    "    print(f\"player2 choose {player2}\")\n",
    "    return (player1,player2)"
   ]
  },
  {
   "cell_type": "code",
   "execution_count": 4,
   "metadata": {},
   "outputs": [
    {
     "name": "stdout",
     "output_type": "stream",
     "text": [
      "-------------\n",
      "   |     |   \n",
      "-------------\n",
      "   |     |   \n",
      "-------------\n",
      "   |     |   \n",
      "-------------\n"
     ]
    }
   ],
   "source": [
    "test_board = [\" \"]*10\n",
    "display_board(test_board)"
   ]
  },
  {
   "cell_type": "code",
   "execution_count": 3,
   "metadata": {},
   "outputs": [],
   "source": [
    "from IPython.display import clear_output\n",
    "\n",
    "def display_board(board):\n",
    "    print(\"-------------\")\n",
    "    print(board[7]+\"  |  \"+board[8]+\"  |  \"+board[9])\n",
    "    print(\"-------------\")\n",
    "    print(board[4]+\"  |  \"+board[5]+\"  |  \"+board[6])\n",
    "    print(\"-------------\")\n",
    "    print(board[1]+\"  |  \"+board[2]+\"  |  \"+board[3])\n",
    "    print(\"-------------\")"
   ]
  },
  {
   "cell_type": "code",
   "execution_count": 5,
   "metadata": {},
   "outputs": [],
   "source": [
    "def place_marker(board, marker, position):\n",
    "    test_board[position]=marker"
   ]
  },
  {
   "cell_type": "code",
   "execution_count": 6,
   "metadata": {},
   "outputs": [],
   "source": [
    "def win_check(board, mark):\n",
    "    if board[1]==mark and board[2]==mark and board[3]==mark:\n",
    "        return \"won\"\n",
    "    elif board[4]==mark and board[5]==mark and board[6]==mark:\n",
    "        return \"won\"\n",
    "    elif board[7]==mark and board[8]==mark and board[9]==mark:\n",
    "        return \"won\"\n",
    "    elif board[1]==mark and board[4]==mark and board[7]==mark:\n",
    "        return \"won\"\n",
    "    elif board[2]==mark and board[5]==mark and board[8]==mark:\n",
    "        return \"won\"\n",
    "    elif board[3]==mark and board[6]==mark and board[9]==mark:\n",
    "        return \"won\"\n",
    "    elif board[1]==mark and board[5]==mark and board[9]==mark:\n",
    "        return \"won\"\n",
    "    elif board[3]==mark and board[5]==mark and board[7]==mark:\n",
    "        return \"won\""
   ]
  },
  {
   "cell_type": "code",
   "execution_count": 7,
   "metadata": {},
   "outputs": [],
   "source": [
    "from random import randint\n",
    "\n",
    "def choose_first():\n",
    "    if randint(1,2)==1:\n",
    "        return var[0]\n",
    "    else:\n",
    "        return var[1]"
   ]
  },
  {
   "cell_type": "code",
   "execution_count": 8,
   "metadata": {},
   "outputs": [],
   "source": [
    "def space_check(board, position):\n",
    "    if board[position]==\" \":\n",
    "        return True\n",
    "    else:\n",
    "        return False"
   ]
  },
  {
   "cell_type": "code",
   "execution_count": 9,
   "metadata": {},
   "outputs": [],
   "source": [
    "def full_board_check(board):\n",
    "    k=\" \" not in board\n",
    "    if k==True:\n",
    "        return True\n",
    "    else:\n",
    "        return False"
   ]
  },
  {
   "cell_type": "code",
   "execution_count": 10,
   "metadata": {},
   "outputs": [],
   "source": [
    "def player_choice(board):\n",
    "    position=int(input(\"next position please:  \"))\n",
    "    ck=space_check(board,position)\n",
    "    while ck==False:\n",
    "        position=int(input(\"it is occupied. please choose again  \"))\n",
    "        ck=space_check(board,position)\n",
    "    if ck==True:\n",
    "        print(place_marker(board,mark,position))"
   ]
  },
  {
   "cell_type": "code",
   "execution_count": 11,
   "metadata": {},
   "outputs": [
    {
     "name": "stdout",
     "output_type": "stream",
     "text": [
      "yahoo!! X win the game. Congratulation\n",
      "Game over\n",
      "Want to play again Y/N:  N\n",
      "Thanks for playing\n"
     ]
    }
   ],
   "source": [
    "playagain=\"Y\"\n",
    "while playagain==\"Y\":\n",
    "    print('Welcome to Tic Tac Toe!')\n",
    "    print(\" \")\n",
    "    var=player_input()\n",
    "    test_board = [\"X\",\" \",\" \",\" \",\" \",\" \",\" \",\" \",\" \",\" \"]\n",
    "    print(\" \")\n",
    "    mark=choose_first()\n",
    "    if mark==var[0]:\n",
    "        print(var[1]+\" start the match\")\n",
    "    else:\n",
    "        print(var[0]+\" start the match\")\n",
    "    print(\" \")\n",
    "    chk=full_board_check(test_board)\n",
    "    w=win_check(test_board,mark)\n",
    "    while chk== False or w!=\"won\":\n",
    "        display_board(test_board)\n",
    "        if mark==var[0]:\n",
    "            mark=var[1]\n",
    "        elif mark==var[1]:\n",
    "            mark=var[0]\n",
    "        player_choice(test_board)\n",
    "        display_board(test_board)\n",
    "        clear_output()\n",
    "        chk=full_board_check(test_board)\n",
    "        w=win_check(test_board,mark)\n",
    "        if chk== True:\n",
    "            print(\"Game draw!\")\n",
    "            break\n",
    "        elif w==\"won\":\n",
    "            print(f\"yahoo!! {mark} win the game. Congratulation\")\n",
    "            break\n",
    "    print(\"Game over\")\n",
    "    playagain=input(\"Want to play again Y/N:  \")\n",
    "    if playagain==\"Y\":\n",
    "        clear_output()\n",
    "    else:\n",
    "        print(\"Thanks for playing\")"
   ]
  }
 ],
 "metadata": {
  "kernelspec": {
   "display_name": "Python 3",
   "language": "python",
   "name": "python3"
  },
  "language_info": {
   "codemirror_mode": {
    "name": "ipython",
    "version": 3
   },
   "file_extension": ".py",
   "mimetype": "text/x-python",
   "name": "python",
   "nbconvert_exporter": "python",
   "pygments_lexer": "ipython3",
   "version": "3.7.1"
  }
 },
 "nbformat": 4,
 "nbformat_minor": 2
}
